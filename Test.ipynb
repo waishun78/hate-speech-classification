{
 "cells": [
  {
   "cell_type": "code",
   "execution_count": 1,
   "metadata": {},
   "outputs": [],
   "source": [
    "import pandas as pd\n",
    "import numpy as np"
   ]
  },
  {
   "cell_type": "code",
   "execution_count": 2,
   "metadata": {},
   "outputs": [],
   "source": [
    "training_df = pd.read_csv('./train_tfidf_features.csv')\n",
    "testing_df = pd.read_csv('./test_tfidf_features.csv')"
   ]
  },
  {
   "cell_type": "code",
   "execution_count": 3,
   "metadata": {},
   "outputs": [],
   "source": [
    "feature_names = [str(i) for i in range(0,5000)]\n",
    "train_features = training_df.loc[:, feature_names]\n",
    "training_labels = training_df.loc[:, 'label']\n",
    "testing_features = testing_df.loc[:, feature_names]\n",
    "X_train, X_test = train_features, testing_features\n",
    "Y_train = training_labels"
   ]
  },
  {
   "cell_type": "code",
   "execution_count": 8,
   "metadata": {},
   "outputs": [
    {
     "name": "stdout",
     "output_type": "stream",
     "text": [
      "{'C': 1.0, 'class_weight': None, 'dual': False, 'fit_intercept': True, 'intercept_scaling': 1, 'l1_ratio': None, 'max_iter': 100, 'multi_class': 'auto', 'n_jobs': None, 'penalty': 'l2', 'random_state': None, 'solver': 'newton-cg', 'tol': 0.0001, 'verbose': 0, 'warm_start': False}\n"
     ]
    }
   ],
   "source": [
    "from sklearn.linear_model import LogisticRegression\n",
    "from sklearn.metrics import accuracy_score\n",
    "lr = LogisticRegression(solver='newton-cg')\n",
    "lr.fit(X_train, Y_train)\n",
    "Y_test = lr.predict(X_test)\n",
    "print(lr.get_params())"
   ]
  },
  {
   "cell_type": "code",
   "execution_count": 9,
   "metadata": {},
   "outputs": [],
   "source": [
    "Y_test = pd.DataFrame(Y_test)\n",
    "Y_test.columns = ['label']\n",
    "Y_test.insert(0, 'id', testing_df['id'])\n",
    "Y_test.to_csv(\"sklearn_logistic_regression_predictions\", index=False)"
   ]
  },
  {
   "cell_type": "code",
   "execution_count": 10,
   "metadata": {},
   "outputs": [
    {
     "name": "stdout",
     "output_type": "stream",
     "text": [
      "0.8538175046554934\n"
     ]
    }
   ],
   "source": [
    "best_predictions = pd.read_csv('./skynet_submission_95_f1macro.csv')\n",
    "print(accuracy_score(best_predictions['label'], Y_test['label']))"
   ]
  },
  {
   "cell_type": "code",
   "execution_count": 15,
   "metadata": {},
   "outputs": [
    {
     "name": "stdout",
     "output_type": "stream",
     "text": [
      "(1, 5000)\n"
     ]
    }
   ],
   "source": [
    "print(lr.coef_.shape)"
   ]
  }
 ],
 "metadata": {
  "kernelspec": {
   "display_name": "Python 3.9.7 64-bit ('base': conda)",
   "language": "python",
   "name": "python3"
  },
  "language_info": {
   "codemirror_mode": {
    "name": "ipython",
    "version": 3
   },
   "file_extension": ".py",
   "mimetype": "text/x-python",
   "name": "python",
   "nbconvert_exporter": "python",
   "pygments_lexer": "ipython3",
   "version": "3.9.7"
  },
  "orig_nbformat": 4,
  "vscode": {
   "interpreter": {
    "hash": "d264375431ec867ce4451d87186e33c8c664431a37240a06155db17d375e3c4c"
   }
  }
 },
 "nbformat": 4,
 "nbformat_minor": 2
}
