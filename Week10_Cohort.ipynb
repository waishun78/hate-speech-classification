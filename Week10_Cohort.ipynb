{
    "cells": [
        {
            "cell_type": "markdown",
            "metadata": {
                "deletable": false,
                "editable": false,
                "nbgrader": {
                    "grade": false,
                    "locked": true,
                    "solution": false
                }
            },
            "source": [
                "# Week 10 Problem Set\n",
                "\n",
                "## Cohort Session"
            ]
        },
        {
            "cell_type": "code",
            "execution_count": 1,
            "metadata": {
                "collapsed": true,
                "deletable": false,
                "editable": false,
                "nbgrader": {
                    "grade": false,
                    "locked": true,
                    "solution": false
                }
            },
            "outputs": [],
            "source": [
                "import pandas as pd\n",
                "import numpy as np\n",
                "import matplotlib.pyplot as plt"
            ]
        },
        {
            "cell_type": "markdown",
            "metadata": {
                "deletable": false,
                "editable": false,
                "nbgrader": {
                    "grade": false,
                    "locked": true,
                    "solution": false
                }
            },
            "source": [
                "**CS0.** Do the following tasks before you start with the first cohort session.\n",
                "\n",
                "**Task 1.** Paste the following functions from your previous work:\n",
                "- `get_features_targets()`\n",
                "- `normalize_z()`\n",
                "- `prepare_feature()`\n",
                "- `prepare_target()`\n",
                "- `split_data()`\n"
            ]
        },
        {
            "cell_type": "code",
            "execution_count": 2,
            "metadata": {
                "collapsed": true,
                "nbgrader": {
                    "grade": false,
                    "grade_id": "cs01",
                    "locked": false,
                    "points": "1",
                    "solution": false
                }
            },
            "outputs": [],
            "source": [
                "def normalize_z(df):\n",
                "    ### BEGIN SOLUTION\n",
                "    dfout = df.copy()\n",
                "    dfout = (df - df.mean(axis=0)) / df.std(axis=0)\n",
                "    return dfout\n",
                "    ### END SOLUTION\n",
                "    pass\n",
                "\n",
                "def get_features_targets(df, feature_names, target_names):\n",
                "    ### BEGIN SOLUTION\n",
                "    df_feature = df[feature_names]\n",
                "    df_target = df[target_names]\n",
                "    ### END SOLUTION\n",
                "    pass\n",
                "    return df_feature, df_target\n",
                "\n",
                "def prepare_feature(df_feature): # X matrix: # rows -> # samples, # cols -> # features\n",
                "    ### BEGIN SOLUTION\n",
                "    cols = len(df_feature.columns)\n",
                "    feature = df_feature.to_numpy().reshape(-1, cols)\n",
                "    X = np.concatenate((np.ones((feature.shape[0],1)), feature), axis=1)\n",
                "    return X\n",
                "    ### END SOLUTION\n",
                "    pass\n",
                "\n",
                "def prepare_target(df_target):\n",
                "    ### BEGIN SOLUTION\n",
                "    cols = len(df_target.columns)\n",
                "    target = df_target.to_numpy().reshape(-1, cols)\n",
                "    return target\n",
                "    ### END SOLUTION\n",
                "    pass\n",
                "\n",
                "def split_data(df_feature, df_target, random_state=None, test_size=0.5):\n",
                "    ### BEGIN SOLUTION\n",
                "    indexes = df_feature.index\n",
                "    if random_state != None:\n",
                "        np.random.seed(random_state)\n",
                "    k = int(test_size * len(indexes))\n",
                "    test_index = np.random.choice(indexes, k, replace=False)\n",
                "    indexes = set(indexes)\n",
                "    test_index = set(test_index)\n",
                "    train_index = indexes - test_index\n",
                "    df_feature_train = df_feature.loc[train_index, :]\n",
                "    df_feature_test = df_feature.loc[test_index, :]\n",
                "    df_target_train = df_target.loc[train_index, :]\n",
                "    df_target_test = df_target.loc[test_index, :]\n",
                "    ### END SOLUTION\n",
                "    return df_feature_train, df_feature_test, df_target_train, df_target_test\n",
                " "
            ]
        },
        {
            "cell_type": "markdown",
            "metadata": {
                "deletable": false,
                "editable": false,
                "nbgrader": {
                    "grade": false,
                    "locked": true,
                    "solution": false
                }
            },
            "source": [
                "**Task 2.** Load the breast cancer data from `breast_cancer_data.csv` into a Data Frame. "
            ]
        },
        {
            "cell_type": "code",
            "execution_count": 3,
            "metadata": {
                "nbgrader": {
                    "grade": false,
                    "grade_id": "cs02",
                    "locked": false,
                    "points": "1",
                    "solution": false
                }
            },
            "outputs": [
                {
                    "data": {
                        "text/html": [
                            "<div>\n",
                            "<style scoped>\n",
                            "    .dataframe tbody tr th:only-of-type {\n",
                            "        vertical-align: middle;\n",
                            "    }\n",
                            "\n",
                            "    .dataframe tbody tr th {\n",
                            "        vertical-align: top;\n",
                            "    }\n",
                            "\n",
                            "    .dataframe thead th {\n",
                            "        text-align: right;\n",
                            "    }\n",
                            "</style>\n",
                            "<table border=\"1\" class=\"dataframe\">\n",
                            "  <thead>\n",
                            "    <tr style=\"text-align: right;\">\n",
                            "      <th></th>\n",
                            "      <th>id</th>\n",
                            "      <th>label</th>\n",
                            "      <th>0</th>\n",
                            "      <th>1</th>\n",
                            "      <th>2</th>\n",
                            "      <th>3</th>\n",
                            "      <th>4</th>\n",
                            "      <th>5</th>\n",
                            "      <th>6</th>\n",
                            "      <th>7</th>\n",
                            "      <th>...</th>\n",
                            "      <th>4990</th>\n",
                            "      <th>4991</th>\n",
                            "      <th>4992</th>\n",
                            "      <th>4993</th>\n",
                            "      <th>4994</th>\n",
                            "      <th>4995</th>\n",
                            "      <th>4996</th>\n",
                            "      <th>4997</th>\n",
                            "      <th>4998</th>\n",
                            "      <th>4999</th>\n",
                            "    </tr>\n",
                            "  </thead>\n",
                            "  <tbody>\n",
                            "    <tr>\n",
                            "      <th>0</th>\n",
                            "      <td>1</td>\n",
                            "      <td>1</td>\n",
                            "      <td>0.0</td>\n",
                            "      <td>0.0</td>\n",
                            "      <td>0.0</td>\n",
                            "      <td>0.0</td>\n",
                            "      <td>0.0</td>\n",
                            "      <td>0.0</td>\n",
                            "      <td>0.0</td>\n",
                            "      <td>0.0</td>\n",
                            "      <td>...</td>\n",
                            "      <td>0.0</td>\n",
                            "      <td>0.0</td>\n",
                            "      <td>0.0</td>\n",
                            "      <td>0.0</td>\n",
                            "      <td>0.0</td>\n",
                            "      <td>0.0</td>\n",
                            "      <td>0.0</td>\n",
                            "      <td>0.0</td>\n",
                            "      <td>0.0</td>\n",
                            "      <td>0.0</td>\n",
                            "    </tr>\n",
                            "    <tr>\n",
                            "      <th>1</th>\n",
                            "      <td>2</td>\n",
                            "      <td>0</td>\n",
                            "      <td>0.0</td>\n",
                            "      <td>0.0</td>\n",
                            "      <td>0.0</td>\n",
                            "      <td>0.0</td>\n",
                            "      <td>0.0</td>\n",
                            "      <td>0.0</td>\n",
                            "      <td>0.0</td>\n",
                            "      <td>0.0</td>\n",
                            "      <td>...</td>\n",
                            "      <td>0.0</td>\n",
                            "      <td>0.0</td>\n",
                            "      <td>0.0</td>\n",
                            "      <td>0.0</td>\n",
                            "      <td>0.0</td>\n",
                            "      <td>0.0</td>\n",
                            "      <td>0.0</td>\n",
                            "      <td>0.0</td>\n",
                            "      <td>0.0</td>\n",
                            "      <td>0.0</td>\n",
                            "    </tr>\n",
                            "    <tr>\n",
                            "      <th>2</th>\n",
                            "      <td>3</td>\n",
                            "      <td>1</td>\n",
                            "      <td>0.0</td>\n",
                            "      <td>0.0</td>\n",
                            "      <td>0.0</td>\n",
                            "      <td>0.0</td>\n",
                            "      <td>0.0</td>\n",
                            "      <td>0.0</td>\n",
                            "      <td>0.0</td>\n",
                            "      <td>0.0</td>\n",
                            "      <td>...</td>\n",
                            "      <td>0.0</td>\n",
                            "      <td>0.0</td>\n",
                            "      <td>0.0</td>\n",
                            "      <td>0.0</td>\n",
                            "      <td>0.0</td>\n",
                            "      <td>0.0</td>\n",
                            "      <td>0.0</td>\n",
                            "      <td>0.0</td>\n",
                            "      <td>0.0</td>\n",
                            "      <td>0.0</td>\n",
                            "    </tr>\n",
                            "    <tr>\n",
                            "      <th>3</th>\n",
                            "      <td>4</td>\n",
                            "      <td>0</td>\n",
                            "      <td>0.0</td>\n",
                            "      <td>0.0</td>\n",
                            "      <td>0.0</td>\n",
                            "      <td>0.0</td>\n",
                            "      <td>0.0</td>\n",
                            "      <td>0.0</td>\n",
                            "      <td>0.0</td>\n",
                            "      <td>0.0</td>\n",
                            "      <td>...</td>\n",
                            "      <td>0.0</td>\n",
                            "      <td>0.0</td>\n",
                            "      <td>0.0</td>\n",
                            "      <td>0.0</td>\n",
                            "      <td>0.0</td>\n",
                            "      <td>0.0</td>\n",
                            "      <td>0.0</td>\n",
                            "      <td>0.0</td>\n",
                            "      <td>0.0</td>\n",
                            "      <td>0.0</td>\n",
                            "    </tr>\n",
                            "    <tr>\n",
                            "      <th>4</th>\n",
                            "      <td>5</td>\n",
                            "      <td>1</td>\n",
                            "      <td>0.0</td>\n",
                            "      <td>0.0</td>\n",
                            "      <td>0.0</td>\n",
                            "      <td>0.0</td>\n",
                            "      <td>0.0</td>\n",
                            "      <td>0.0</td>\n",
                            "      <td>0.0</td>\n",
                            "      <td>0.0</td>\n",
                            "      <td>...</td>\n",
                            "      <td>0.0</td>\n",
                            "      <td>0.0</td>\n",
                            "      <td>0.0</td>\n",
                            "      <td>0.0</td>\n",
                            "      <td>0.0</td>\n",
                            "      <td>0.0</td>\n",
                            "      <td>0.0</td>\n",
                            "      <td>0.0</td>\n",
                            "      <td>0.0</td>\n",
                            "      <td>0.0</td>\n",
                            "    </tr>\n",
                            "    <tr>\n",
                            "      <th>...</th>\n",
                            "      <td>...</td>\n",
                            "      <td>...</td>\n",
                            "      <td>...</td>\n",
                            "      <td>...</td>\n",
                            "      <td>...</td>\n",
                            "      <td>...</td>\n",
                            "      <td>...</td>\n",
                            "      <td>...</td>\n",
                            "      <td>...</td>\n",
                            "      <td>...</td>\n",
                            "      <td>...</td>\n",
                            "      <td>...</td>\n",
                            "      <td>...</td>\n",
                            "      <td>...</td>\n",
                            "      <td>...</td>\n",
                            "      <td>...</td>\n",
                            "      <td>...</td>\n",
                            "      <td>...</td>\n",
                            "      <td>...</td>\n",
                            "      <td>...</td>\n",
                            "      <td>...</td>\n",
                            "    </tr>\n",
                            "    <tr>\n",
                            "      <th>17179</th>\n",
                            "      <td>17180</td>\n",
                            "      <td>0</td>\n",
                            "      <td>0.0</td>\n",
                            "      <td>0.0</td>\n",
                            "      <td>0.0</td>\n",
                            "      <td>0.0</td>\n",
                            "      <td>0.0</td>\n",
                            "      <td>0.0</td>\n",
                            "      <td>0.0</td>\n",
                            "      <td>0.0</td>\n",
                            "      <td>...</td>\n",
                            "      <td>0.0</td>\n",
                            "      <td>0.0</td>\n",
                            "      <td>0.0</td>\n",
                            "      <td>0.0</td>\n",
                            "      <td>0.0</td>\n",
                            "      <td>0.0</td>\n",
                            "      <td>0.0</td>\n",
                            "      <td>0.0</td>\n",
                            "      <td>0.0</td>\n",
                            "      <td>0.0</td>\n",
                            "    </tr>\n",
                            "    <tr>\n",
                            "      <th>17180</th>\n",
                            "      <td>17181</td>\n",
                            "      <td>0</td>\n",
                            "      <td>0.0</td>\n",
                            "      <td>0.0</td>\n",
                            "      <td>0.0</td>\n",
                            "      <td>0.0</td>\n",
                            "      <td>0.0</td>\n",
                            "      <td>0.0</td>\n",
                            "      <td>0.0</td>\n",
                            "      <td>0.0</td>\n",
                            "      <td>...</td>\n",
                            "      <td>0.0</td>\n",
                            "      <td>0.0</td>\n",
                            "      <td>0.0</td>\n",
                            "      <td>0.0</td>\n",
                            "      <td>0.0</td>\n",
                            "      <td>0.0</td>\n",
                            "      <td>0.0</td>\n",
                            "      <td>0.0</td>\n",
                            "      <td>0.0</td>\n",
                            "      <td>0.0</td>\n",
                            "    </tr>\n",
                            "    <tr>\n",
                            "      <th>17181</th>\n",
                            "      <td>17182</td>\n",
                            "      <td>1</td>\n",
                            "      <td>0.0</td>\n",
                            "      <td>0.0</td>\n",
                            "      <td>0.0</td>\n",
                            "      <td>0.0</td>\n",
                            "      <td>0.0</td>\n",
                            "      <td>0.0</td>\n",
                            "      <td>0.0</td>\n",
                            "      <td>0.0</td>\n",
                            "      <td>...</td>\n",
                            "      <td>0.0</td>\n",
                            "      <td>0.0</td>\n",
                            "      <td>0.0</td>\n",
                            "      <td>0.0</td>\n",
                            "      <td>0.0</td>\n",
                            "      <td>0.0</td>\n",
                            "      <td>0.0</td>\n",
                            "      <td>0.0</td>\n",
                            "      <td>0.0</td>\n",
                            "      <td>0.0</td>\n",
                            "    </tr>\n",
                            "    <tr>\n",
                            "      <th>17182</th>\n",
                            "      <td>17183</td>\n",
                            "      <td>1</td>\n",
                            "      <td>0.0</td>\n",
                            "      <td>0.0</td>\n",
                            "      <td>0.0</td>\n",
                            "      <td>0.0</td>\n",
                            "      <td>0.0</td>\n",
                            "      <td>0.0</td>\n",
                            "      <td>0.0</td>\n",
                            "      <td>0.0</td>\n",
                            "      <td>...</td>\n",
                            "      <td>0.0</td>\n",
                            "      <td>0.0</td>\n",
                            "      <td>0.0</td>\n",
                            "      <td>0.0</td>\n",
                            "      <td>0.0</td>\n",
                            "      <td>0.0</td>\n",
                            "      <td>0.0</td>\n",
                            "      <td>0.0</td>\n",
                            "      <td>0.0</td>\n",
                            "      <td>0.0</td>\n",
                            "    </tr>\n",
                            "    <tr>\n",
                            "      <th>17183</th>\n",
                            "      <td>17184</td>\n",
                            "      <td>0</td>\n",
                            "      <td>0.0</td>\n",
                            "      <td>0.0</td>\n",
                            "      <td>0.0</td>\n",
                            "      <td>0.0</td>\n",
                            "      <td>0.0</td>\n",
                            "      <td>0.0</td>\n",
                            "      <td>0.0</td>\n",
                            "      <td>0.0</td>\n",
                            "      <td>...</td>\n",
                            "      <td>0.0</td>\n",
                            "      <td>0.0</td>\n",
                            "      <td>0.0</td>\n",
                            "      <td>0.0</td>\n",
                            "      <td>0.0</td>\n",
                            "      <td>0.0</td>\n",
                            "      <td>0.0</td>\n",
                            "      <td>0.0</td>\n",
                            "      <td>0.0</td>\n",
                            "      <td>0.0</td>\n",
                            "    </tr>\n",
                            "  </tbody>\n",
                            "</table>\n",
                            "<p>17184 rows × 5002 columns</p>\n",
                            "</div>"
                        ],
                        "text/plain": [
                            "          id  label    0    1    2    3    4    5    6    7  ...  4990  4991  \\\n",
                            "0          1      1  0.0  0.0  0.0  0.0  0.0  0.0  0.0  0.0  ...   0.0   0.0   \n",
                            "1          2      0  0.0  0.0  0.0  0.0  0.0  0.0  0.0  0.0  ...   0.0   0.0   \n",
                            "2          3      1  0.0  0.0  0.0  0.0  0.0  0.0  0.0  0.0  ...   0.0   0.0   \n",
                            "3          4      0  0.0  0.0  0.0  0.0  0.0  0.0  0.0  0.0  ...   0.0   0.0   \n",
                            "4          5      1  0.0  0.0  0.0  0.0  0.0  0.0  0.0  0.0  ...   0.0   0.0   \n",
                            "...      ...    ...  ...  ...  ...  ...  ...  ...  ...  ...  ...   ...   ...   \n",
                            "17179  17180      0  0.0  0.0  0.0  0.0  0.0  0.0  0.0  0.0  ...   0.0   0.0   \n",
                            "17180  17181      0  0.0  0.0  0.0  0.0  0.0  0.0  0.0  0.0  ...   0.0   0.0   \n",
                            "17181  17182      1  0.0  0.0  0.0  0.0  0.0  0.0  0.0  0.0  ...   0.0   0.0   \n",
                            "17182  17183      1  0.0  0.0  0.0  0.0  0.0  0.0  0.0  0.0  ...   0.0   0.0   \n",
                            "17183  17184      0  0.0  0.0  0.0  0.0  0.0  0.0  0.0  0.0  ...   0.0   0.0   \n",
                            "\n",
                            "       4992  4993  4994  4995  4996  4997  4998  4999  \n",
                            "0       0.0   0.0   0.0   0.0   0.0   0.0   0.0   0.0  \n",
                            "1       0.0   0.0   0.0   0.0   0.0   0.0   0.0   0.0  \n",
                            "2       0.0   0.0   0.0   0.0   0.0   0.0   0.0   0.0  \n",
                            "3       0.0   0.0   0.0   0.0   0.0   0.0   0.0   0.0  \n",
                            "4       0.0   0.0   0.0   0.0   0.0   0.0   0.0   0.0  \n",
                            "...     ...   ...   ...   ...   ...   ...   ...   ...  \n",
                            "17179   0.0   0.0   0.0   0.0   0.0   0.0   0.0   0.0  \n",
                            "17180   0.0   0.0   0.0   0.0   0.0   0.0   0.0   0.0  \n",
                            "17181   0.0   0.0   0.0   0.0   0.0   0.0   0.0   0.0  \n",
                            "17182   0.0   0.0   0.0   0.0   0.0   0.0   0.0   0.0  \n",
                            "17183   0.0   0.0   0.0   0.0   0.0   0.0   0.0   0.0  \n",
                            "\n",
                            "[17184 rows x 5002 columns]"
                        ]
                    },
                    "execution_count": 3,
                    "metadata": {},
                    "output_type": "execute_result"
                }
            ],
            "source": [
                "# read breast_cancer_data.csv\n",
                "df = pd.read_csv('./train_tfidf_features.csv')\n",
                "\n",
                "###\n",
                "### YOUR CODE HERE\n",
                "###\n",
                "\n",
                "df"
            ]
        },
        {
            "cell_type": "markdown",
            "metadata": {
                "deletable": false,
                "editable": false,
                "nbgrader": {
                    "grade": false,
                    "locked": true,
                    "solution": false
                }
            },
            "source": [
                "**Task 3.** Do the following tasks.\n",
                "\n",
                "- Read the following columns\n",
                "    - feature: `radius_mean`\n",
                "    - target: `diagnosis`\n",
                "- Normalize the feature column using z normalization."
            ]
        },
        {
            "cell_type": "code",
            "execution_count": 4,
            "metadata": {
                "collapsed": true,
                "nbgrader": {
                    "grade": false,
                    "grade_id": "cs03",
                    "locked": false,
                    "points": "1",
                    "solution": false
                }
            },
            "outputs": [],
            "source": [
                "# extract the feature and the target\n",
                "feature_names = [str(i) for i in range(0,5000)]\n",
                "df_feature, df_target = get_features_targets(df, feature_names, ['label'])\n",
                "\n",
                "# normalize the feature\n",
                "df_feature = normalize_z(df_feature)\n",
                "\n",
                "###\n",
                "### YOUR CODE HERE\n",
                "###\n"
            ]
        },
        {
            "cell_type": "markdown",
            "metadata": {
                "deletable": false,
                "editable": false,
                "nbgrader": {
                    "grade": false,
                    "locked": true,
                    "solution": false
                }
            },
            "source": [
                "**Task 4.** Write a function `replace_target()` to replace the `diagnosis` column with the following mapping:\n",
                "    - `M`: `1`, this means that malignant cell are indicated as `1` in our new column.\n",
                "    - `B`: `0`, this means that benign cell are indicated as `0` in our new column.\n",
                "    \n",
                "The function should takes in the following:\n",
                "\n",
                "- `df_target`: the target data frame\n",
                "- `target_name`: which is the column name of the target data frame\n",
                "- `map`: which is a dictionary containing the map\n",
                "    \n",
                "It should returns a new data frame with the same column name but with its values changed according to the mapping."
            ]
        },
        {
            "cell_type": "code",
            "execution_count": 48,
            "metadata": {
                "collapsed": true,
                "nbgrader": {
                    "grade": false,
                    "grade_id": "cs04",
                    "locked": false,
                    "points": "1",
                    "solution": false
                }
            },
            "outputs": [],
            "source": [
                "def replace_target(df_target, target_name, map_vals):\n",
                "    df_copy = df_target.copy()\n",
                "    df_copy.loc[:, target_name]= df_target[target_name].apply(lambda x: map_vals[x])\n",
                "    return df_copy"
            ]
        },
        {
            "cell_type": "code",
            "execution_count": 5,
            "metadata": {
                "deletable": false,
                "editable": false,
                "nbgrader": {
                    "grade": false,
                    "locked": true,
                    "solution": false
                }
            },
            "outputs": [
                {
                    "data": {
                        "text/html": [
                            "<div>\n",
                            "<style scoped>\n",
                            "    .dataframe tbody tr th:only-of-type {\n",
                            "        vertical-align: middle;\n",
                            "    }\n",
                            "\n",
                            "    .dataframe tbody tr th {\n",
                            "        vertical-align: top;\n",
                            "    }\n",
                            "\n",
                            "    .dataframe thead th {\n",
                            "        text-align: right;\n",
                            "    }\n",
                            "</style>\n",
                            "<table border=\"1\" class=\"dataframe\">\n",
                            "  <thead>\n",
                            "    <tr style=\"text-align: right;\">\n",
                            "      <th></th>\n",
                            "      <th>label</th>\n",
                            "    </tr>\n",
                            "  </thead>\n",
                            "  <tbody>\n",
                            "    <tr>\n",
                            "      <th>0</th>\n",
                            "      <td>1</td>\n",
                            "    </tr>\n",
                            "    <tr>\n",
                            "      <th>1</th>\n",
                            "      <td>0</td>\n",
                            "    </tr>\n",
                            "    <tr>\n",
                            "      <th>2</th>\n",
                            "      <td>1</td>\n",
                            "    </tr>\n",
                            "    <tr>\n",
                            "      <th>3</th>\n",
                            "      <td>0</td>\n",
                            "    </tr>\n",
                            "    <tr>\n",
                            "      <th>4</th>\n",
                            "      <td>1</td>\n",
                            "    </tr>\n",
                            "    <tr>\n",
                            "      <th>...</th>\n",
                            "      <td>...</td>\n",
                            "    </tr>\n",
                            "    <tr>\n",
                            "      <th>17179</th>\n",
                            "      <td>0</td>\n",
                            "    </tr>\n",
                            "    <tr>\n",
                            "      <th>17180</th>\n",
                            "      <td>0</td>\n",
                            "    </tr>\n",
                            "    <tr>\n",
                            "      <th>17181</th>\n",
                            "      <td>1</td>\n",
                            "    </tr>\n",
                            "    <tr>\n",
                            "      <th>17182</th>\n",
                            "      <td>1</td>\n",
                            "    </tr>\n",
                            "    <tr>\n",
                            "      <th>17183</th>\n",
                            "      <td>0</td>\n",
                            "    </tr>\n",
                            "  </tbody>\n",
                            "</table>\n",
                            "<p>17184 rows × 1 columns</p>\n",
                            "</div>"
                        ],
                        "text/plain": [
                            "       label\n",
                            "0          1\n",
                            "1          0\n",
                            "2          1\n",
                            "3          0\n",
                            "4          1\n",
                            "...      ...\n",
                            "17179      0\n",
                            "17180      0\n",
                            "17181      1\n",
                            "17182      1\n",
                            "17183      0\n",
                            "\n",
                            "[17184 rows x 1 columns]"
                        ]
                    },
                    "execution_count": 5,
                    "metadata": {},
                    "output_type": "execute_result"
                }
            ],
            "source": [
                "\n",
                "df_target"
            ]
        },
        {
            "cell_type": "markdown",
            "metadata": {
                "deletable": false,
                "editable": false,
                "nbgrader": {
                    "grade": false,
                    "locked": true,
                    "solution": false
                }
            },
            "source": [
                "**Task 5.** Do the following tasks.\n",
                "- Change feature to Numpy array and append constant 1 column.\n",
                "- Change target to Numpy array"
            ]
        },
        {
            "cell_type": "code",
            "execution_count": 28,
            "metadata": {
                "collapsed": true,
                "nbgrader": {
                    "grade": false,
                    "grade_id": "cs05",
                    "locked": false,
                    "points": "1",
                    "solution": false
                }
            },
            "outputs": [],
            "source": [
                "# change feature data frame to numpy array and append column 1\n",
                "feature = prepare_feature(df_feature)\n",
                "\n",
                "# change target data frame to numpy array\n",
                "target = prepare_target(df_target)\n",
                "\n",
                "###\n",
                "### YOUR CODE HERE\n",
                "###\n"
            ]
        },
        {
            "cell_type": "markdown",
            "metadata": {
                "deletable": false,
                "editable": false,
                "nbgrader": {
                    "grade": false,
                    "locked": true,
                    "solution": false
                }
            },
            "source": [
                "**CS1.** *Logistic function:* Write a function to calculate the hypothesis using a logistic function. Recall that the hypothesis for a logistic regression model is written as:\n",
                "\n",
                "$$\\mathbf{p}(x) = \\frac{1}{1 + e^{-\\mathbf{X}\\mathbf{b}}}$$\n",
                "\n",
                "The shape of the input is as follows:\n",
                "- $\\mathbf{b}$: is a column vector for the parameters\n",
                "- $\\mathbf{X}$: is a matrix where the number of rows are the number of data points and the the number of columns must the same as the number of parameters in $\\mathbf{b}$.\n",
                "\n",
                "Note that you need to ensure that the output is a **column vector**. \n",
                "\n",
                "You can use the following functions:\n",
                "- `np.matmul(array1, array2)`: which is to perform matrix multiplication on the two numpy arrays.\n",
                "- `np.exp()`: which is to calculate the function $e^x$"
            ]
        },
        {
            "cell_type": "code",
            "execution_count": 7,
            "metadata": {
                "collapsed": true,
                "nbgrader": {
                    "grade": false,
                    "grade_id": "cs11",
                    "locked": false,
                    "points": "1",
                    "solution": false
                }
            },
            "outputs": [],
            "source": [
                "def log_regression(beta, X): # prediction, output is between 0 and 1\n",
                "    ### BEGIN SOLUTION\n",
                "    return 1/(1+np.exp(np.matmul(X, -beta)))\n",
                "    ### END SOLUTION\n",
                "    pass"
            ]
        },
        {
            "cell_type": "code",
            "execution_count": 52,
            "metadata": {
                "collapsed": true,
                "deletable": false,
                "editable": false,
                "nbgrader": {
                    "grade": true,
                    "grade_id": "cs11",
                    "locked": true,
                    "points": "1",
                    "solution": false
                }
            },
            "outputs": [],
            "source": [
                "beta = np.array([0])\n",
                "x = np.array([0])\n",
                "ans = log_regression(beta, x)\n",
                "assert ans == 0.5\n",
                "\n",
                "beta = np.array([2])\n",
                "x = np.array([40])\n",
                "ans = log_regression(beta, x)\n",
                "assert np.isclose(ans, 1.0)\n",
                "\n",
                "beta = np.array([2])\n",
                "x = np.array([-40])\n",
                "ans = log_regression(beta, x)\n",
                "assert np.isclose(ans, 0.0)\n",
                "\n",
                "beta = np.array([[1, 2, 3]])\n",
                "x = np.array([[3, 2, 1]])\n",
                "ans = log_regression(beta.T, x)\n",
                "assert np.isclose(ans.all(), 1.0)\n",
                "\n",
                "beta = np.array([[1, 2, 3]])\n",
                "x = np.array([[3, 2, 1], [3, 2, 1]])\n",
                "ans = log_regression(beta.T, x)\n",
                "assert ans.shape == (2, 1)\n",
                "assert np.isclose(ans.all(), 1.0)"
            ]
        },
        {
            "cell_type": "code",
            "execution_count": 53,
            "metadata": {
                "collapsed": true,
                "deletable": false,
                "editable": false,
                "nbgrader": {
                    "grade": true,
                    "grade_id": "cs12",
                    "locked": true,
                    "points": "1",
                    "solution": false
                }
            },
            "outputs": [],
            "source": [
                "###\n",
                "### AUTOGRADER TEST - DO NOT REMOVE\n",
                "###\n"
            ]
        },
        {
            "cell_type": "markdown",
            "metadata": {
                "deletable": false,
                "editable": false,
                "nbgrader": {
                    "grade": false,
                    "locked": true,
                    "solution": false
                }
            },
            "source": [
                "**CS2.** *Cost Function:* Write a function to calculate the cost function for logistic regression. Recall that the cost function for logistic regression is given by:\n",
                "\n",
                "$$J(\\beta) = -\\frac{1}{m}\\left[\\Sigma_{i=1}^m y^i \\log(p(x^i)) + (1 - y^i) \\log(1 - p(x^i))\\right]$$\n",
                "\n",
                "You can use the following function in your code:\n",
                "- `np.where(condition, then_expression, else_expression)`"
            ]
        },
        {
            "cell_type": "code",
            "execution_count": 26,
            "metadata": {
                "collapsed": true,
                "nbgrader": {
                    "grade": false,
                    "grade_id": "cs13",
                    "locked": false,
                    "points": "1",
                    "solution": false
                }
            },
            "outputs": [],
            "source": [
                "def compute_cost_logreg(beta, X, y):\n",
                "    np.seterr(divide = 'ignore') \n",
                "    ### BEGIN SOLUTION\n",
                "    num_of_samples = len(y)\n",
                "    J = -(1/num_of_samples) * \\\n",
                "        np.sum(np.where(y==1, np.log(log_regression(beta,X)), np.log(1-log_regression(beta,X))))\n",
                "    ### END SOLUTION\n",
                "    np.seterr(divide = 'warn')\n",
                "    return J"
            ]
        },
        {
            "cell_type": "code",
            "execution_count": 9,
            "metadata": {
                "deletable": false,
                "editable": false,
                "nbgrader": {
                    "grade": true,
                    "grade_id": "cs21",
                    "locked": true,
                    "points": "1",
                    "solution": false
                }
            },
            "outputs": [
                {
                    "name": "stdout",
                    "output_type": "stream",
                    "text": [
                        "-0.0\n",
                        "-0.0\n"
                    ]
                }
            ],
            "source": [
                "y = np.array([[1]])\n",
                "X = np.array([[10, 40]])\n",
                "beta = np.array([1, 1]).T\n",
                "ans = compute_cost_logreg(beta, X, y)\n",
                "print(ans)\n",
                "assert np.isclose(ans, 0)\n",
                "\n",
                "y = np.array([[0]])\n",
                "X = np.array([[10, 40]])\n",
                "beta = np.array([[-1, -1]]).T\n",
                "ans = compute_cost_logreg(beta, X, y)\n",
                "print(ans)\n",
                "assert np.isclose(ans, 0)"
            ]
        },
        {
            "cell_type": "code",
            "execution_count": 56,
            "metadata": {
                "collapsed": true,
                "deletable": false,
                "editable": false,
                "nbgrader": {
                    "grade": true,
                    "grade_id": "cs22",
                    "locked": true,
                    "points": "1",
                    "solution": false
                }
            },
            "outputs": [],
            "source": [
                "###\n",
                "### AUTOGRADER TEST - DO NOT REMOVE\n",
                "###\n"
            ]
        },
        {
            "cell_type": "markdown",
            "metadata": {
                "deletable": false,
                "editable": false,
                "nbgrader": {
                    "grade": false,
                    "locked": true,
                    "solution": false
                }
            },
            "source": [
                "**CS3.** *Gradient Descent:* Recall that the update functions can be written as a matrix multiplication.\n",
                "\n",
                "$$\\mathbf{b} = \\mathbf{b} - \\alpha\\frac{1}{m}\\mathbf{X}^T(\\mathbf{p} - \\mathbf{y}) $$\n",
                "\n",
                "Write a function called `gradient_descent_logreg()` that takes in five parameters:\n",
                "- `X`: is a 2-D numpy array for the features\n",
                "- `y`: is a vector array for the target\n",
                "- `beta`: is a column vector for the initial guess of the parameters\n",
                "- `alpha`: is the learning rate\n",
                "- `num_iters`: is the number of iteration to perform\n",
                "\n",
                "The function should return two arrays:\n",
                "- `beta`: is coefficient at the end of the iteration\n",
                "- `J_storage`: is the array that stores the cost value at each iteration\n",
                "\n",
                "The solution is similar to Linear Regression gradient descent function with two differences:\n",
                "- you need to use `log_regression()` to calculate the hypothesis\n",
                "- you need to use `compute_cost_logreg()` to calculate the cost"
            ]
        },
        {
            "cell_type": "code",
            "execution_count": 30,
            "metadata": {
                "collapsed": true,
                "nbgrader": {
                    "grade": false,
                    "grade_id": "cs31",
                    "locked": false,
                    "points": "1",
                    "solution": false
                }
            },
            "outputs": [],
            "source": [
                "def gradient_descent_logreg(X, y, beta, alpha, num_iters):\n",
                "    m = X.shape[0] # number of samples\n",
                "    J_storage = np.zeros((num_iters,1))\n",
                "    for i in range(num_iters):\n",
                "        derivative = (1/m) * np.matmul(X.T, (log_regression(beta, X) - y))\n",
                "        beta = beta - alpha * derivative # update the beta \n",
                "        J_storage[i] = compute_cost_logreg(beta, X, y) \n",
                "    return beta, J_storage"
            ]
        },
        {
            "cell_type": "code",
            "execution_count": 32,
            "metadata": {
                "deletable": false,
                "editable": false,
                "nbgrader": {
                    "grade": true,
                    "grade_id": "cs31",
                    "locked": true,
                    "points": "1",
                    "solution": false
                }
            },
            "outputs": [
                {
                    "name": "stdout",
                    "output_type": "stream",
                    "text": [
                        "[[nan]\n",
                        " [nan]\n",
                        " [nan]\n",
                        " ...\n",
                        " [nan]\n",
                        " [nan]\n",
                        " [nan]]\n"
                    ]
                }
            ],
            "source": [
                "iterations = 100\n",
                "alpha = 0.01\n",
                "beta = np.zeros((5001,1))\n",
                "beta, J_storage = gradient_descent_logreg(feature, target, beta, alpha, iterations)\n",
                "\n",
                "print(beta)"
            ]
        },
        {
            "cell_type": "code",
            "execution_count": null,
            "metadata": {
                "collapsed": true,
                "deletable": false,
                "editable": false,
                "nbgrader": {
                    "grade": true,
                    "grade_id": "cs32",
                    "locked": true,
                    "points": "1",
                    "solution": false
                }
            },
            "outputs": [],
            "source": [
                "###\n",
                "### AUTOGRADER TEST - DO NOT REMOVE\n",
                "###\n"
            ]
        },
        {
            "cell_type": "code",
            "execution_count": 16,
            "metadata": {
                "deletable": false,
                "editable": false,
                "nbgrader": {
                    "grade": false,
                    "locked": true,
                    "solution": false
                }
            },
            "outputs": [
                {
                    "data": {
                        "text/plain": [
                            "[<matplotlib.lines.Line2D at 0x7f91a31e14c0>]"
                        ]
                    },
                    "execution_count": 16,
                    "metadata": {},
                    "output_type": "execute_result"
                },
                {
                    "data": {
                        "image/png": "[encoded data removed]",
                        "text/plain": [
                            "<Figure size 432x288 with 1 Axes>"
                        ]
                    },
                    "metadata": {
                        "needs_background": "light"
                    },
                    "output_type": "display_data"
                }
            ],
            "source": [
                "plt.plot(J_storage)"
            ]
        },
        {
            "cell_type": "markdown",
            "metadata": {
                "deletable": false,
                "editable": false,
                "nbgrader": {
                    "grade": false,
                    "locked": true,
                    "solution": false
                }
            },
            "source": [
                "**CS4.** *Predict:* Write two functions `predict()` and `predict_norm()` that calculate the straight line equation given the features and its coefficient.\n",
                "- `predict()`: this function should standardize the feature using z normalization, change it to a Numpy array, and add a column of constant 1s. You should use `prepare_feature()` for this purpose. Lastly, this function should also call `predict_norm()` to get the predicted y values.\n",
                "- `predict_norm()`: this function should calculate the straight line equation after standardization and adding of column for constant 1.\n",
                "\n",
                "You can use the following function in your code:\n",
                "- `np.where()`"
            ]
        },
        {
            "cell_type": "code",
            "execution_count": 17,
            "metadata": {
                "collapsed": true
            },
            "outputs": [],
            "source": [
                "def predict_norm(X, beta):\n",
                "    p = log_regression(beta, X)\n",
                "    return np.where(p>=0.5, 1, 0)\n",
                "    pass"
            ]
        },
        {
            "cell_type": "code",
            "execution_count": 18,
            "metadata": {
                "collapsed": true
            },
            "outputs": [],
            "source": [
                "def predict(df_feature, beta):\n",
                "    X = prepare_feature(df_feature)\n",
                "    return predict_norm(X, beta)\n",
                "    pass"
            ]
        },
        {
            "cell_type": "code",
            "execution_count": 23,
            "metadata": {
                "deletable": false,
                "editable": false,
                "nbgrader": {
                    "grade": true,
                    "grade_id": "cs41",
                    "locked": true,
                    "points": "1",
                    "solution": false
                }
            },
            "outputs": [
                {
                    "name": "stdout",
                    "output_type": "stream",
                    "text": [
                        "0.0 0.0\n"
                    ]
                }
            ],
            "source": [
                "pred = predict(df_test_features, beta)\n",
                "print(pred.mean(), pred.std())"
            ]
        },
        {
            "cell_type": "code",
            "execution_count": null,
            "metadata": {
                "collapsed": true,
                "deletable": false,
                "editable": false,
                "nbgrader": {
                    "grade": true,
                    "grade_id": "cs42",
                    "locked": true,
                    "points": "1",
                    "solution": false
                }
            },
            "outputs": [],
            "source": [
                "###\n",
                "### AUTOGRADER TEST - DO NOT REMOVE\n",
                "###\n"
            ]
        },
        {
            "cell_type": "code",
            "execution_count": 24,
            "metadata": {
                "deletable": false,
                "editable": false,
                "nbgrader": {
                    "grade": false,
                    "locked": true,
                    "solution": false
                }
            },
            "outputs": [
                {
                    "ename": "ValueError",
                    "evalue": "x and y must be the same size",
                    "output_type": "error",
                    "traceback": [
                        "\u001b[0;31m---------------------------------------------------------------------------\u001b[0m",
                        "\u001b[0;31mValueError\u001b[0m                                Traceback (most recent call last)",
                        "\u001b[0;32m/var/folders/yy/rcnbsh9d65s6m7lnl3jl85lw0000gn/T/ipykernel_96420/357055468.py\u001b[0m in \u001b[0;36m<module>\u001b[0;34m\u001b[0m\n\u001b[0;32m----> 1\u001b[0;31m \u001b[0mplt\u001b[0m\u001b[0;34m.\u001b[0m\u001b[0mscatter\u001b[0m\u001b[0;34m(\u001b[0m\u001b[0mdf_feature\u001b[0m\u001b[0;34m,\u001b[0m \u001b[0mdf_target\u001b[0m\u001b[0;34m)\u001b[0m\u001b[0;34m\u001b[0m\u001b[0;34m\u001b[0m\u001b[0m\n\u001b[0m\u001b[1;32m      2\u001b[0m \u001b[0mplt\u001b[0m\u001b[0;34m.\u001b[0m\u001b[0mscatter\u001b[0m\u001b[0;34m(\u001b[0m\u001b[0mdf_feature\u001b[0m\u001b[0;34m,\u001b[0m \u001b[0mpred\u001b[0m\u001b[0;34m)\u001b[0m\u001b[0;34m\u001b[0m\u001b[0;34m\u001b[0m\u001b[0m\n",
                        "\u001b[0;32m~/opt/anaconda3/lib/python3.9/site-packages/matplotlib/pyplot.py\u001b[0m in \u001b[0;36mscatter\u001b[0;34m(x, y, s, c, marker, cmap, norm, vmin, vmax, alpha, linewidths, edgecolors, plotnonfinite, data, **kwargs)\u001b[0m\n\u001b[1;32m   3066\u001b[0m         \u001b[0mvmin\u001b[0m\u001b[0;34m=\u001b[0m\u001b[0;32mNone\u001b[0m\u001b[0;34m,\u001b[0m \u001b[0mvmax\u001b[0m\u001b[0;34m=\u001b[0m\u001b[0;32mNone\u001b[0m\u001b[0;34m,\u001b[0m \u001b[0malpha\u001b[0m\u001b[0;34m=\u001b[0m\u001b[0;32mNone\u001b[0m\u001b[0;34m,\u001b[0m \u001b[0mlinewidths\u001b[0m\u001b[0;34m=\u001b[0m\u001b[0;32mNone\u001b[0m\u001b[0;34m,\u001b[0m \u001b[0;34m*\u001b[0m\u001b[0;34m,\u001b[0m\u001b[0;34m\u001b[0m\u001b[0;34m\u001b[0m\u001b[0m\n\u001b[1;32m   3067\u001b[0m         edgecolors=None, plotnonfinite=False, data=None, **kwargs):\n\u001b[0;32m-> 3068\u001b[0;31m     __ret = gca().scatter(\n\u001b[0m\u001b[1;32m   3069\u001b[0m         \u001b[0mx\u001b[0m\u001b[0;34m,\u001b[0m \u001b[0my\u001b[0m\u001b[0;34m,\u001b[0m \u001b[0ms\u001b[0m\u001b[0;34m=\u001b[0m\u001b[0ms\u001b[0m\u001b[0;34m,\u001b[0m \u001b[0mc\u001b[0m\u001b[0;34m=\u001b[0m\u001b[0mc\u001b[0m\u001b[0;34m,\u001b[0m \u001b[0mmarker\u001b[0m\u001b[0;34m=\u001b[0m\u001b[0mmarker\u001b[0m\u001b[0;34m,\u001b[0m \u001b[0mcmap\u001b[0m\u001b[0;34m=\u001b[0m\u001b[0mcmap\u001b[0m\u001b[0;34m,\u001b[0m \u001b[0mnorm\u001b[0m\u001b[0;34m=\u001b[0m\u001b[0mnorm\u001b[0m\u001b[0;34m,\u001b[0m\u001b[0;34m\u001b[0m\u001b[0;34m\u001b[0m\u001b[0m\n\u001b[1;32m   3070\u001b[0m         \u001b[0mvmin\u001b[0m\u001b[0;34m=\u001b[0m\u001b[0mvmin\u001b[0m\u001b[0;34m,\u001b[0m \u001b[0mvmax\u001b[0m\u001b[0;34m=\u001b[0m\u001b[0mvmax\u001b[0m\u001b[0;34m,\u001b[0m \u001b[0malpha\u001b[0m\u001b[0;34m=\u001b[0m\u001b[0malpha\u001b[0m\u001b[0;34m,\u001b[0m \u001b[0mlinewidths\u001b[0m\u001b[0;34m=\u001b[0m\u001b[0mlinewidths\u001b[0m\u001b[0;34m,\u001b[0m\u001b[0;34m\u001b[0m\u001b[0;34m\u001b[0m\u001b[0m\n",
                        "\u001b[0;32m~/opt/anaconda3/lib/python3.9/site-packages/matplotlib/__init__.py\u001b[0m in \u001b[0;36minner\u001b[0;34m(ax, data, *args, **kwargs)\u001b[0m\n\u001b[1;32m   1359\u001b[0m     \u001b[0;32mdef\u001b[0m \u001b[0minner\u001b[0m\u001b[0;34m(\u001b[0m\u001b[0max\u001b[0m\u001b[0;34m,\u001b[0m \u001b[0;34m*\u001b[0m\u001b[0margs\u001b[0m\u001b[0;34m,\u001b[0m \u001b[0mdata\u001b[0m\u001b[0;34m=\u001b[0m\u001b[0;32mNone\u001b[0m\u001b[0;34m,\u001b[0m \u001b[0;34m**\u001b[0m\u001b[0mkwargs\u001b[0m\u001b[0;34m)\u001b[0m\u001b[0;34m:\u001b[0m\u001b[0;34m\u001b[0m\u001b[0;34m\u001b[0m\u001b[0m\n\u001b[1;32m   1360\u001b[0m         \u001b[0;32mif\u001b[0m \u001b[0mdata\u001b[0m \u001b[0;32mis\u001b[0m \u001b[0;32mNone\u001b[0m\u001b[0;34m:\u001b[0m\u001b[0;34m\u001b[0m\u001b[0;34m\u001b[0m\u001b[0m\n\u001b[0;32m-> 1361\u001b[0;31m             \u001b[0;32mreturn\u001b[0m \u001b[0mfunc\u001b[0m\u001b[0;34m(\u001b[0m\u001b[0max\u001b[0m\u001b[0;34m,\u001b[0m \u001b[0;34m*\u001b[0m\u001b[0mmap\u001b[0m\u001b[0;34m(\u001b[0m\u001b[0msanitize_sequence\u001b[0m\u001b[0;34m,\u001b[0m \u001b[0margs\u001b[0m\u001b[0;34m)\u001b[0m\u001b[0;34m,\u001b[0m \u001b[0;34m**\u001b[0m\u001b[0mkwargs\u001b[0m\u001b[0;34m)\u001b[0m\u001b[0;34m\u001b[0m\u001b[0;34m\u001b[0m\u001b[0m\n\u001b[0m\u001b[1;32m   1362\u001b[0m \u001b[0;34m\u001b[0m\u001b[0m\n\u001b[1;32m   1363\u001b[0m         \u001b[0mbound\u001b[0m \u001b[0;34m=\u001b[0m \u001b[0mnew_sig\u001b[0m\u001b[0;34m.\u001b[0m\u001b[0mbind\u001b[0m\u001b[0;34m(\u001b[0m\u001b[0max\u001b[0m\u001b[0;34m,\u001b[0m \u001b[0;34m*\u001b[0m\u001b[0margs\u001b[0m\u001b[0;34m,\u001b[0m \u001b[0;34m**\u001b[0m\u001b[0mkwargs\u001b[0m\u001b[0;34m)\u001b[0m\u001b[0;34m\u001b[0m\u001b[0;34m\u001b[0m\u001b[0m\n",
                        "\u001b[0;32m~/opt/anaconda3/lib/python3.9/site-packages/matplotlib/axes/_axes.py\u001b[0m in \u001b[0;36mscatter\u001b[0;34m(self, x, y, s, c, marker, cmap, norm, vmin, vmax, alpha, linewidths, edgecolors, plotnonfinite, **kwargs)\u001b[0m\n\u001b[1;32m   4496\u001b[0m         \u001b[0my\u001b[0m \u001b[0;34m=\u001b[0m \u001b[0mnp\u001b[0m\u001b[0;34m.\u001b[0m\u001b[0mma\u001b[0m\u001b[0;34m.\u001b[0m\u001b[0mravel\u001b[0m\u001b[0;34m(\u001b[0m\u001b[0my\u001b[0m\u001b[0;34m)\u001b[0m\u001b[0;34m\u001b[0m\u001b[0;34m\u001b[0m\u001b[0m\n\u001b[1;32m   4497\u001b[0m         \u001b[0;32mif\u001b[0m \u001b[0mx\u001b[0m\u001b[0;34m.\u001b[0m\u001b[0msize\u001b[0m \u001b[0;34m!=\u001b[0m \u001b[0my\u001b[0m\u001b[0;34m.\u001b[0m\u001b[0msize\u001b[0m\u001b[0;34m:\u001b[0m\u001b[0;34m\u001b[0m\u001b[0;34m\u001b[0m\u001b[0m\n\u001b[0;32m-> 4498\u001b[0;31m             \u001b[0;32mraise\u001b[0m \u001b[0mValueError\u001b[0m\u001b[0;34m(\u001b[0m\u001b[0;34m\"x and y must be the same size\"\u001b[0m\u001b[0;34m)\u001b[0m\u001b[0;34m\u001b[0m\u001b[0;34m\u001b[0m\u001b[0m\n\u001b[0m\u001b[1;32m   4499\u001b[0m \u001b[0;34m\u001b[0m\u001b[0m\n\u001b[1;32m   4500\u001b[0m         \u001b[0;32mif\u001b[0m \u001b[0ms\u001b[0m \u001b[0;32mis\u001b[0m \u001b[0;32mNone\u001b[0m\u001b[0;34m:\u001b[0m\u001b[0;34m\u001b[0m\u001b[0;34m\u001b[0m\u001b[0m\n",
                        "\u001b[0;31mValueError\u001b[0m: x and y must be the same size"
                    ]
                },
                {
                    "data": {
                        "image/png": "[encoded data removed]",
                        "text/plain": [
                            "<Figure size 432x288 with 1 Axes>"
                        ]
                    },
                    "metadata": {
                        "needs_background": "light"
                    },
                    "output_type": "display_data"
                }
            ],
            "source": [
                "plt.scatter(df_feature, df_target)\n",
                "plt.scatter(df_feature, pred)"
            ]
        },
        {
            "cell_type": "markdown",
            "metadata": {
                "deletable": false,
                "editable": false,
                "nbgrader": {
                    "grade": false,
                    "locked": true,
                    "solution": false
                }
            },
            "source": [
                "**CS5.** *Multiple features and splitting of data set:* \n",
                "\n",
                "Do the following task in the code below:\n",
                "- Read the following column names as the features: `\"radius_mean\", \"texture_mean\", \"perimeter_mean\", \"area_mean\", \"smoothness_mean\", \"compactness_mean\", \"concavity_mean\"`\n",
                "- Read the column `diagnosis` as the target. Change the value from `M` and `B` to `1` and `0` respectively.\n",
                "- Split the data set with 30% test size and `random_state = 100`.\n",
                "- Normalize the training feature data set using `normalize_z()` function.\n",
                "- Convert to numpy array both the target and the features using `prepare_feature()` and `prepare_target()` functions.\n",
                "- Call `gradient_descent()` function to get the parameters using the training data set.\n",
                "- Call `predict()` function on the test data set to get the predicted values."
            ]
        },
        {
            "cell_type": "code",
            "execution_count": null,
            "metadata": {},
            "outputs": [
                {
                    "ename": "TypeError",
                    "evalue": "get_features_targets() missing 2 required positional arguments: 'feature_names' and 'target_names'",
                    "output_type": "error",
                    "traceback": [
                        "\u001b[0;31m---------------------------------------------------------------------------\u001b[0m",
                        "\u001b[0;31mTypeError\u001b[0m                                 Traceback (most recent call last)",
                        "\u001b[0;32m/var/folders/yy/rcnbsh9d65s6m7lnl3jl85lw0000gn/T/ipykernel_1688/1159325925.py\u001b[0m in \u001b[0;36m<module>\u001b[0;34m\u001b[0m\n\u001b[1;32m      2\u001b[0m \u001b[0;34m\u001b[0m\u001b[0m\n\u001b[1;32m      3\u001b[0m \u001b[0;31m# extract the features and the target columns\u001b[0m\u001b[0;34m\u001b[0m\u001b[0;34m\u001b[0m\u001b[0m\n\u001b[0;32m----> 4\u001b[0;31m \u001b[0mdf_features\u001b[0m\u001b[0;34m,\u001b[0m \u001b[0mdf_target\u001b[0m \u001b[0;34m=\u001b[0m \u001b[0mget_features_targets\u001b[0m\u001b[0;34m(\u001b[0m\u001b[0mdf\u001b[0m\u001b[0;34m,\u001b[0m \u001b[0;34m)\u001b[0m\u001b[0;34m\u001b[0m\u001b[0;34m\u001b[0m\u001b[0m\n\u001b[0m\u001b[1;32m      5\u001b[0m \u001b[0;34m\u001b[0m\u001b[0m\n\u001b[1;32m      6\u001b[0m \u001b[0;31m# replace the target values using from string to integer 0 and 1\u001b[0m\u001b[0;34m\u001b[0m\u001b[0;34m\u001b[0m\u001b[0m\n",
                        "\u001b[0;31mTypeError\u001b[0m: get_features_targets() missing 2 required positional arguments: 'feature_names' and 'target_names'"
                    ]
                }
            ],
            "source": [
                "columns = [\"radius_mean\", \"texture_mean\", \"perimeter_mean\", \"area_mean\", \"smoothness_mean\", \"compactness_mean\", \"concavity_mean\"]\n",
                "\n",
                "# extract the features and the target columns\n",
                "df_features, df_target = get_features_targets(df, )\n",
                "\n",
                "# replace the target values using from string to integer 0 and 1\n",
                "df_target = None\n",
                "\n",
                "# split the data with random_state = 100 and 30% test size\n",
                "df_features_train, df_features_test, df_target_train, df_target_test = None, None, None, None\n",
                "\n",
                "# normalize the features\n",
                "df_features_train_z = None\n",
                "\n",
                "# change the feature columns to numpy array and append column of 1s\n",
                "features = None\n",
                "\n",
                "# change the target column to numpy array\n",
                "target = None\n",
                "\n",
                "iterations = 1500\n",
                "alpha = 0.01\n",
                "\n",
                "# provide initial guess for theta\n",
                "beta = None\n",
                "\n",
                "# call the gradient descent method\n",
                "beta, J_storage = None, None\n",
                "\n",
                "###\n",
                "### YOUR CODE HERE\n",
                "###\n",
                "print(beta)\n",
                "\n"
            ]
        },
        {
            "cell_type": "code",
            "execution_count": null,
            "metadata": {
                "collapsed": true,
                "deletable": false,
                "editable": false,
                "nbgrader": {
                    "grade": true,
                    "grade_id": "cs51",
                    "locked": true,
                    "points": "1",
                    "solution": false
                }
            },
            "outputs": [
                {
                    "ename": "AssertionError",
                    "evalue": "",
                    "output_type": "error",
                    "traceback": [
                        "\u001b[0;31m---------------------------------------------------------------------------\u001b[0m",
                        "\u001b[0;31mAssertionError\u001b[0m                            Traceback (most recent call last)",
                        "\u001b[0;32m/var/folders/yy/rcnbsh9d65s6m7lnl3jl85lw0000gn/T/ipykernel_1688/2245297645.py\u001b[0m in \u001b[0;36m<module>\u001b[0;34m\u001b[0m\n\u001b[0;32m----> 1\u001b[0;31m \u001b[0;32massert\u001b[0m \u001b[0mbeta\u001b[0m\u001b[0;34m.\u001b[0m\u001b[0mshape\u001b[0m \u001b[0;34m==\u001b[0m \u001b[0;34m(\u001b[0m\u001b[0;36m8\u001b[0m\u001b[0;34m,\u001b[0m \u001b[0;36m1\u001b[0m\u001b[0;34m)\u001b[0m\u001b[0;34m\u001b[0m\u001b[0;34m\u001b[0m\u001b[0m\n\u001b[0m\u001b[1;32m      2\u001b[0m ans = np.array([[-0.6139379 ], \n\u001b[1;32m      3\u001b[0m                 \u001b[0;34m[\u001b[0m \u001b[0;36m0.82529554\u001b[0m\u001b[0;34m]\u001b[0m\u001b[0;34m,\u001b[0m\u001b[0;34m\u001b[0m\u001b[0;34m\u001b[0m\u001b[0m\n\u001b[1;32m      4\u001b[0m                 \u001b[0;34m[\u001b[0m \u001b[0;36m0.72746485\u001b[0m\u001b[0;34m]\u001b[0m\u001b[0;34m,\u001b[0m\u001b[0;34m\u001b[0m\u001b[0;34m\u001b[0m\u001b[0m\n\u001b[1;32m      5\u001b[0m                 \u001b[0;34m[\u001b[0m \u001b[0;36m0.8236603\u001b[0m \u001b[0;34m]\u001b[0m\u001b[0;34m,\u001b[0m\u001b[0;34m\u001b[0m\u001b[0;34m\u001b[0m\u001b[0m\n",
                        "\u001b[0;31mAssertionError\u001b[0m: "
                    ]
                }
            ],
            "source": [
                "assert beta.shape == (8, 1)\n",
                "ans = np.array([[-0.6139379 ], \n",
                "                [ 0.82529554],\n",
                "                [ 0.72746485],\n",
                "                [ 0.8236603 ],\n",
                "                [ 0.81647937],\n",
                "                [ 0.5057749 ],\n",
                "                [ 0.44176466],\n",
                "                [ 0.78736842]])\n",
                "assert np.isclose(beta, ans).all()"
            ]
        },
        {
            "cell_type": "code",
            "execution_count": null,
            "metadata": {
                "collapsed": true,
                "deletable": false,
                "editable": false,
                "nbgrader": {
                    "grade": true,
                    "grade_id": "cs52",
                    "locked": true,
                    "points": "1",
                    "solution": false
                }
            },
            "outputs": [],
            "source": [
                "###\n",
                "### AUTOGRADER TEST - DO NOT REMOVE\n",
                "###\n"
            ]
        },
        {
            "cell_type": "code",
            "execution_count": null,
            "metadata": {
                "deletable": false,
                "editable": false,
                "nbgrader": {
                    "grade": false,
                    "locked": true,
                    "solution": false
                }
            },
            "outputs": [],
            "source": [
                "plt.plot(J_storage)"
            ]
        },
        {
            "cell_type": "code",
            "execution_count": null,
            "metadata": {
                "collapsed": true
            },
            "outputs": [],
            "source": [
                "# call predict() to get the predicted values\n",
                "pred = predict(df_features_test, beta)\n",
                "\n",
                "###\n",
                "### YOUR CODE HERE\n",
                "###\n"
            ]
        },
        {
            "cell_type": "code",
            "execution_count": null,
            "metadata": {
                "deletable": false,
                "editable": false,
                "nbgrader": {
                    "grade": false,
                    "locked": true,
                    "solution": false
                }
            },
            "outputs": [],
            "source": [
                "plt.scatter(df_features_test[\"radius_mean\"], df_target_test)\n",
                "plt.scatter(df_features_test[\"radius_mean\"], pred)"
            ]
        },
        {
            "cell_type": "code",
            "execution_count": null,
            "metadata": {
                "deletable": false,
                "editable": false,
                "nbgrader": {
                    "grade": false,
                    "locked": true,
                    "solution": false
                }
            },
            "outputs": [],
            "source": [
                "plt.scatter(df_features_test[\"texture_mean\"], df_target_test)\n",
                "plt.scatter(df_features_test[\"texture_mean\"], pred)"
            ]
        },
        {
            "cell_type": "code",
            "execution_count": null,
            "metadata": {
                "deletable": false,
                "editable": false,
                "nbgrader": {
                    "grade": false,
                    "locked": true,
                    "solution": false
                }
            },
            "outputs": [],
            "source": [
                "plt.scatter(df_features_test[\"perimeter_mean\"], df_target_test)\n",
                "plt.scatter(df_features_test[\"perimeter_mean\"], pred)"
            ]
        },
        {
            "cell_type": "markdown",
            "metadata": {
                "deletable": false,
                "editable": false,
                "nbgrader": {
                    "grade": false,
                    "locked": true,
                    "solution": false
                }
            },
            "source": [
                "**CS6.** *Confusion Matrix:* Write a function `confusion_matrix()` that takes in:\n",
                "- `ytrue`: which is the true target values\n",
                "- `ypred`: which is the predicted target values\n",
                "- `labels`: which is a list of the category. In the above case it will be `[1, 0]`. Put the positive case as the first element of the list. \n",
                "\n",
                "The function should return a dictionary containing the matrix with the following format.\n",
                "\n",
                "|                 | predicted positive (1) | predicted negative (0) |\n",
                "|-----------------|--------------------|--------------------|\n",
                "| actual positive (1) | correct positive  (1, 1) | false negative (1, 0)    |\n",
                "| actual negative (0) | false positive (0, 1)   | correct negative (0, 0)   |\n",
                "\n",
                "The keys to the dictionary are the indices: `(0, 0), (0, 1), (1, 0), (1, 1)`.\n",
                "\n",
                "You can use the following function in your code:\n",
                "- `itertools.product()`: this is to create a combination of all the labels. "
            ]
        },
        {
            "cell_type": "code",
            "execution_count": null,
            "metadata": {
                "collapsed": true
            },
            "outputs": [],
            "source": [
                "import itertools\n",
                "def confusion_matrix(ytrue, ypred, labels):\n",
                "    output = {}\n",
                "    ###\n",
                "    ### YOUR CODE HERE\n",
                "    ###\n",
                "    return output\n"
            ]
        },
        {
            "cell_type": "code",
            "execution_count": null,
            "metadata": {
                "deletable": false,
                "editable": false,
                "nbgrader": {
                    "grade": true,
                    "grade_id": "cs61",
                    "locked": true,
                    "points": "1",
                    "solution": false
                }
            },
            "outputs": [],
            "source": [
                "result = confusion_matrix(df_target_test.values, pred, [1,0])\n",
                "print(result)\n",
                "assert result == {(0, 0): 100, (0, 1): 1, (1, 0): 12, (1, 1): 57}"
            ]
        },
        {
            "cell_type": "markdown",
            "metadata": {
                "deletable": false,
                "editable": false,
                "nbgrader": {
                    "grade": false,
                    "locked": true,
                    "solution": false
                }
            },
            "source": [
                "**CS7.** *Metrics:* Write a function `calc_accuracy()` that takes in a Confusion Matrix array and output a dictionary with the following keys and values:\n",
                "- `accuracy`: total number of correct predictions / total number of records\n",
                "- `sensitivity`: total correct positive cases / total positive cases\n",
                "- `specificity`: total false positives / total negative cases\n",
                "- `precision`: total  of correct positive cases / total predicted positive cases"
            ]
        },
        {
            "cell_type": "code",
            "execution_count": null,
            "metadata": {
                "collapsed": true
            },
            "outputs": [],
            "source": [
                "def calc_accuracy(cm):\n",
                "    ###\n",
                "    ### YOUR CODE HERE\n",
                "    ###\n",
                "    result = {'accuracy': accuracy, 'sensitivity': sensitivity,\n",
                "              'specificity': specificity, 'precision': precision}\n",
                "    return result\n"
            ]
        },
        {
            "cell_type": "code",
            "execution_count": null,
            "metadata": {
                "collapsed": true,
                "deletable": false,
                "editable": false,
                "nbgrader": {
                    "grade": true,
                    "grade_id": "cs71",
                    "locked": true,
                    "points": "1",
                    "solution": false
                }
            },
            "outputs": [],
            "source": [
                "ans = calc_accuracy(result)\n",
                "expected = {'accuracy': 0.9235294117647059, 'sensitivity': 0.8260869565217391, 'specificity': 0.9900990099009901, 'precision': 0.9827586206896551}\n",
                "assert np.isclose(ans['accuracy'], expected['accuracy'])\n",
                "assert np.isclose(ans['sensitivity'], expected['sensitivity'])\n",
                "assert np.isclose(ans['specificity'], expected['specificity'])\n",
                "assert np.isclose(ans['precision'], expected['precision'])\n",
                " "
            ]
        },
        {
            "cell_type": "markdown",
            "metadata": {
                "deletable": false,
                "editable": false,
                "nbgrader": {
                    "grade": false,
                    "locked": true,
                    "solution": false
                }
            },
            "source": [
                "**CS8.** *Optional:* Redo the above tasks using Scikit Learn libraries. You will need to use the following:\n",
                "- [LogisticRegression](https://scikit-learn.org/stable/modules/generated/sklearn.linear_model.LogisticRegression.html)\n",
                "- [train_test_split](https://scikit-learn.org/stable/modules/generated/sklearn.model_selection.train_test_split.html)\n",
                "- [confusion_matrix](https://scikit-learn.org/stable/modules/generated/sklearn.metrics.confusion_matrix.html)"
            ]
        },
        {
            "cell_type": "code",
            "execution_count": null,
            "metadata": {
                "collapsed": true,
                "deletable": false,
                "editable": false,
                "nbgrader": {
                    "grade": false,
                    "locked": true,
                    "solution": false
                }
            },
            "outputs": [],
            "source": [
                "from sklearn.linear_model import LogisticRegression\n",
                "from sklearn.model_selection import train_test_split\n",
                "from sklearn.metrics import confusion_matrix"
            ]
        },
        {
            "cell_type": "code",
            "execution_count": null,
            "metadata": {
                "collapsed": true
            },
            "outputs": [],
            "source": [
                "columns = [\"radius_mean\", \"texture_mean\", \"perimeter_mean\", \"area_mean\", \"smoothness_mean\", \"compactness_mean\", \"concavity_mean\"]\n",
                "# get the features and the columns\n",
                "df_features = None\n",
                "\n",
                "# replace target values with 0 and 1\n",
                "df_target = None\n",
                "\n",
                "###\n",
                "### YOUR CODE HERE\n",
                "###\n"
            ]
        },
        {
            "cell_type": "code",
            "execution_count": null,
            "metadata": {},
            "outputs": [],
            "source": [
                "# split data set using random_state = 100 and 30% test size\n",
                "df_features_train, df_features_test, df_target_train, df_target_test = None, None, None, None\n",
                "\n",
                "# change feature to numpy array and append column of 1s\n",
                "feature = None\n",
                "\n",
                "# change target to numpy array\n",
                "target = None\n",
                "\n",
                "###\n",
                "### YOUR CODE HERE\n",
                "###\n"
            ]
        },
        {
            "cell_type": "code",
            "execution_count": null,
            "metadata": {
                "collapsed": true
            },
            "outputs": [],
            "source": [
                "# create LogisticRegression object instance, use newton-cg solver\n",
                "model = LogisticRegression(solver = 'newton-cg')\n",
                "\n",
                "# build model\n",
                "model.fit(df_features_train, target.flatten())\n",
                "pass\n",
                "\n",
                "# get predicted value\n",
                "pred = model.predict(df_features_test)\n",
                "\n",
                "###\n",
                "### YOUR CODE HERE\n",
                "###\n"
            ]
        },
        {
            "cell_type": "code",
            "execution_count": null,
            "metadata": {
                "collapsed": true
            },
            "outputs": [],
            "source": [
                "# calculate confusion matrix\n",
                "cm = None\n",
                "\n",
                "###\n",
                "### YOUR CODE HERE\n",
                "###\n"
            ]
        },
        {
            "cell_type": "code",
            "execution_count": null,
            "metadata": {
                "collapsed": true,
                "deletable": false,
                "editable": false,
                "nbgrader": {
                    "grade": false,
                    "grade_id": "cs81",
                    "locked": true,
                    "points": "1",
                    "solution": false
                }
            },
            "outputs": [],
            "source": [
                "expected = np.array([[58,  11], [6, 96]])\n",
                "assert (cm == expected).all()"
            ]
        },
        {
            "cell_type": "code",
            "execution_count": null,
            "metadata": {
                "deletable": false,
                "editable": false,
                "nbgrader": {
                    "grade": false,
                    "locked": true,
                    "solution": false
                }
            },
            "outputs": [],
            "source": [
                "plt.scatter(df_features_test[\"radius_mean\"], df_target_test)\n",
                "plt.scatter(df_features_test[\"radius_mean\"], pred)"
            ]
        },
        {
            "cell_type": "code",
            "execution_count": null,
            "metadata": {
                "deletable": false,
                "editable": false,
                "nbgrader": {
                    "grade": false,
                    "locked": true,
                    "solution": false
                }
            },
            "outputs": [],
            "source": [
                "plt.scatter(df_features_test[\"texture_mean\"], df_target_test)\n",
                "plt.scatter(df_features_test[\"texture_mean\"], pred)"
            ]
        },
        {
            "cell_type": "code",
            "execution_count": null,
            "metadata": {
                "deletable": false,
                "editable": false,
                "nbgrader": {
                    "grade": false,
                    "locked": true,
                    "solution": false
                }
            },
            "outputs": [],
            "source": [
                "plt.scatter(df_features_test[\"perimeter_mean\"], df_target_test)\n",
                "plt.scatter(df_features_test[\"perimeter_mean\"], pred)"
            ]
        }
    ],
    "metadata": {
        "kernelspec": {
            "display_name": "Python 3.9.7 64-bit ('base': conda)",
            "language": "python",
            "name": "python3"
        },
        "language_info": {
            "codemirror_mode": {
                "name": "ipython",
                "version": 3
            },
            "file_extension": ".py",
            "mimetype": "text/x-python",
            "name": "python",
            "nbconvert_exporter": "python",
            "pygments_lexer": "ipython3",
            "version": "3.9.7"
        },
        "vscode": {
            "interpreter": {
                "hash": "d264375431ec867ce4451d87186e33c8c664431a37240a06155db17d375e3c4c"
            }
        }
    },
    "nbformat": 4,
    "nbformat_minor": 4
}
